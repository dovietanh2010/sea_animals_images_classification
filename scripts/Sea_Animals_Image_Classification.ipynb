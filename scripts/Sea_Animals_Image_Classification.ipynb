{
 "cells": [
  {
   "cell_type": "markdown",
   "id": "3eece5cc-55fe-4fbd-930d-6b9ddf82bf2e",
   "metadata": {},
   "source": [
    "# Mô hình phân loại sinh vật dưới biển"
   ]
  },
  {
   "cell_type": "markdown",
   "id": "e79f11b6-ff22-431c-a54c-4de154dab705",
   "metadata": {},
   "source": [
    "## I. Hướng đi của mô hình"
   ]
  },
  {
   "cell_type": "markdown",
   "id": "1988e97d-70d6-4f9d-b39c-d48bdd3f7219",
   "metadata": {},
   "source": [
    "__Cài đặt các thư viện cần thiết cho bài toán__"
   ]
  },
  {
   "cell_type": "code",
   "execution_count": 1,
   "id": "ee869333-cff8-4751-873f-b1623075b4a5",
   "metadata": {},
   "outputs": [],
   "source": [
    "from sklearn.model_selection import train_test_split\n",
    "from torch.utils.data import TensorDataset, DataLoader\n",
    "from sklearn.metrics import classification_report\n",
    "import torchvision.transforms as transforms\n",
    "from torchvision.transforms import v2\n",
    "from torchsummary import summary\n",
    "from prettytable import PrettyTable\n",
    "from torchvision import datasets\n",
    "import matplotlib.pyplot as plt\n",
    "import seaborn as sns\n",
    "from PIL import Image\n",
    "import torch.nn as nn\n",
    "import torch\n",
    "import shutil\n",
    "import time\n",
    "import os"
   ]
  },
  {
   "cell_type": "markdown",
   "id": "4d3a317d-5cac-4f38-a77d-e406152a4905",
   "metadata": {},
   "source": [
    "__Hàm tiện ích để xem thông tin tập dữ liệu__"
   ]
  },
  {
   "cell_type": "code",
   "execution_count": null,
   "id": "3d29bf46-85e1-4849-9195-c7a5c6ab44f3",
   "metadata": {},
   "outputs": [],
   "source": [
    "def overview(path):\n",
    "    labels = os.listdir(path)\n",
    "    table = PrettyTable()\n",
    "    table.add_column(\"Labels\", labels)\n",
    "    counts = [len(os.listdir(os.path.join(path, label))) for label in labels]\n",
    "    table.add_column(\"Số lượng\", counts)\n",
    "    table.align = \"l\"\n",
    "    return labels, counts, table"
   ]
  },
  {
   "cell_type": "code",
   "execution_count": null,
   "id": "c507893c-3658-46d5-b899-2872f765bf6d",
   "metadata": {},
   "outputs": [],
   "source": [
    "def plotting(labels, counts):\n",
    "    plt.figure(figsize=(15, 5))\n",
    "    ax = sns.barplot(x=labels, y=counts, palette=\"flare\", hue=labels, dodge=False)\n",
    "    plt.title(\"Số lượng ảnh mỗi loài vật\")\n",
    "    plt.xlabel(\"Loài vật\")\n",
    "    plt.ylabel(\"Số lượng\")\n",
    "    plt.xticks(rotation=45)\n",
    "    for p in ax.patches:\n",
    "        ax.annotate(f'{int(p.get_height())}', \n",
    "        (p.get_x() + p.get_width() / 2., p.get_height()), \n",
    "        ha='center', va='baseline', \n",
    "        fontsize=12, color='black', xytext=(0, 5), \n",
    "        textcoords='offset points')\n",
    "    plt.show()"
   ]
  },
  {
   "cell_type": "code",
   "execution_count": null,
   "id": "b9d04cd5-7141-476f-9286-8bb61d59073a",
   "metadata": {},
   "outputs": [],
   "source": [
    "def show_image(image_path):\n",
    "    plt.figure(figsize=(6, 4))\n",
    "    img = plt.imread(image_path)\n",
    "    plt.imshow(img)\n",
    "    plt.axis('off')\n",
    "    plt.show()"
   ]
  },
  {
   "cell_type": "markdown",
   "id": "450bc8b8-fa6a-48be-bc21-b2cfb65dcab5",
   "metadata": {},
   "source": [
    "__Địa chỉ thư mục gốc__"
   ]
  },
  {
   "cell_type": "code",
   "execution_count": null,
   "id": "c858c12a-b712-4e1e-a6fe-454ed8189ee0",
   "metadata": {},
   "outputs": [],
   "source": [
    "import zipfile\n",
    "zip_path = 'archive.zip'\n",
    "extract_to = 'archive'\n",
    "if os.path.exists(extract_to) and os.path.isdir(extract_to):\n",
    "    shutil.rmtree(extract_to)\n",
    "with zipfile.ZipFile(zip_path, 'r') as zip_ref:\n",
    "    zip_ref.extractall(extract_to)\n",
    "\n",
    "print(\"Giải nén hoàn tất!\")"
   ]
  },
  {
   "cell_type": "code",
   "execution_count": null,
   "id": "db8a86ce-f12c-41a4-9e5c-72ceaa5f5063",
   "metadata": {},
   "outputs": [],
   "source": [
    "root_path = extract_to\n",
    "root_path"
   ]
  },
  {
   "cell_type": "code",
   "execution_count": null,
   "id": "1fb5720c-cd3d-44a3-83e5-7b1d6364289c",
   "metadata": {},
   "outputs": [],
   "source": [
    "(labels, counts, table) = overview(root_path)\n",
    "plotting(labels, counts)"
   ]
  },
  {
   "cell_type": "markdown",
   "id": "120745c5-3b7e-4de6-ba8e-10839f01fcb5",
   "metadata": {},
   "source": [
    "### A. Chọn lọc nhãn\n",
    "__Trong bài toán này, nhóm muốn tối ưu thời gian xây dựng mô hình và chất lượng mô hình, vì vậy nhóm quyết định loại bỏ các nhãn có số lượng nhỏ hơn 499, ngoại trừ nhóm Cá (vì đây là sinh vật cơ bản dưới biển). Dưới đây là các nhón sẽ giữ lại__"
   ]
  },
  {
   "cell_type": "code",
   "execution_count": null,
   "id": "10c0a064-0b2a-4d9b-965f-b9cfb9930ee5",
   "metadata": {},
   "outputs": [],
   "source": [
    "labels_left = []\n",
    "for label, count in zip(labels, counts):\n",
    "    if count < 450:\n",
    "        shutil.rmtree(f'./{root_path}/{label}')\n",
    "        labels_left.append(label)\n",
    "print('Các loài động vật loại bỏ:',labels_left, sep='\\n')"
   ]
  },
  {
   "cell_type": "markdown",
   "id": "c108cebf-9920-4e87-8d60-0941bf1c6fc1",
   "metadata": {},
   "source": [
    "__Danh sách các sinh vật dưới biển mới__"
   ]
  },
  {
   "cell_type": "code",
   "execution_count": null,
   "id": "171774c9-7b17-456d-93d0-9768761b93fd",
   "metadata": {},
   "outputs": [],
   "source": [
    "(labels, counts, table) = overview(root_path)\n",
    "plotting(labels, counts)"
   ]
  },
  {
   "cell_type": "markdown",
   "id": "d6ae7693-d165-410c-8443-87383ce53888",
   "metadata": {},
   "source": [
    "### B. Chọn lọc ảnh cho mô hình\n",
    "__Trong quá trình huấn luyện, nhóm nhận ra một số ảnh trong một vài nhóm không có nhiều sự liên quan với sinh vật, hoặc ảnh có sinh vật nhưng rất khó nhìn. Nhóm quyết định lọc ra và loại bỏ chúng để đảm bảo chất lượng dữ liệu, một số ảnh không liên quan được minh họa bên dưới__"
   ]
  },
  {
   "cell_type": "code",
   "execution_count": null,
   "id": "acf83a2f-8276-437a-934a-2327905b0d8c",
   "metadata": {},
   "outputs": [],
   "source": [
    "#Ảnh hồ gươm không liên quan gì tới con rùa???\n",
    "show_image(f'./{root_path}/Turtle_Tortoise/Turtle_Tortoise (207).jpg')"
   ]
  },
  {
   "cell_type": "code",
   "execution_count": null,
   "id": "a0ef5feb-57b3-4246-94a2-7c971a83e0f1",
   "metadata": {},
   "outputs": [],
   "source": [
    "#Ảnh con rùa nhưng lại có con voi, dễ gây nhập nhằng khi huấn luyện\n",
    "show_image(f'./{root_path}/Turtle_Tortoise/Turtle_Tortoise (285).jpg')"
   ]
  },
  {
   "cell_type": "code",
   "execution_count": null,
   "id": "9e046084-cf16-40c1-b8da-35ea1c848987",
   "metadata": {},
   "outputs": [],
   "source": [
    "# Cũng là con rùa nhưng mà đây là bích họa, khó có thể phát hiện những họa tiết của rùa thật\n",
    "show_image(f'./{root_path}/Turtle_Tortoise/Turtle_Tortoise (191).jpg')"
   ]
  },
  {
   "cell_type": "markdown",
   "id": "416c34d7-823b-426b-bd8c-f1b3daf7b71b",
   "metadata": {},
   "source": [
    "__Loại bỏ các ảnh nhiễu nêu trên__"
   ]
  },
  {
   "cell_type": "code",
   "execution_count": null,
   "id": "b5382531-ef26-4c6f-845d-c374f0656a71",
   "metadata": {},
   "outputs": [],
   "source": [
    "dump_images = {\n",
    "    \"Octopus\": [\n",
    "        \"145499187_2a272d8c12_o.jpg\",\n",
    "        \"3077803917_d30414fe4b_b.jpg\",\n",
    "        \"108207275_602ecab723_b.jpg\",\n",
    "        \"126434824_e909f4ccfc_o.jpg\",\n",
    "        \"375014431_dbceee7bc2_o.jpg\",\n",
    "        \"527800056_b854d930f3_o.jpg\",\n",
    "        \"1806379244_cb01e1f655_b.jpg\",\n",
    "        \"4208556908_f798abbe82_o.jpg\",\n",
    "        \"4579221526_34f22c4389_o.jpg\",\n",
    "        \"5808603971_826e1bbccf_o.jpg\",\n",
    "        \"6909956590_da96a270e9_o.jpg\",\n",
    "        \"7056052431_d5444296da_o.jpg\",\n",
    "        \"8107946717_0e35bd23d1_b.jpg\",\n",
    "        \"8335666216_7a3dac8b2f_o.jpg\",\n",
    "        \"8512487238_e5744046af_o.jpg\",\n",
    "        \"11361195155_2eb1b746fd_b.jpg\",\n",
    "        \"22534634179_eb8ec5337e_b.jpg\",\n",
    "        \"28175082963_3786d54328_o.jpg\",\n",
    "        \"28681305091_0cd4f097cd_o.jpg\",\n",
    "        \"31648134791_173637264a_b.jpg\",\n",
    "        \"36391246035_9a7ba3174b_o.jpg\",\n",
    "        \"36391249725_493a3e9e48_o.jpg\"\n",
    "        \n",
    "    ],\n",
    "    \"Fish\": [\n",
    "        \"27825374776_f78132fc72_o.jpg\",\n",
    "        \"2387855233_2d4386eb78_o.jpg\",\n",
    "        \"1021968748_d291a5bd1b_o.jpg\"\n",
    "    ],\n",
    "    \"Turtle_Tortoise\": [\n",
    "        \"Turtle_Tortoise (205).jpg\",\n",
    "        \"Turtle_Tortoise (144).jpg\",\n",
    "        \"Turtle_Tortoise (276).jpg\",\n",
    "        \"Turtle_Tortoise (262).jpg\",\n",
    "        \"Turtle_Tortoise (1838).jpg\",\n",
    "        \"Turtle_Tortoise (1854).jpg\",\n",
    "        \"Turtle_Tortoise (1839).jpg\",\n",
    "        \"Turtle_Tortoise (201).jpg\",\n",
    "        \"Turtle_Tortoise (186).jpg\",\n",
    "        \"Turtle_Tortoise (253).jpg\",\n",
    "        \"Turtle_Tortoise (191).jpg\",\n",
    "        \"Turtle_Tortoise (284).jpg\",\n",
    "        \"Turtle_Tortoise (285).jpg\",\n",
    "        \"Turtle_Tortoise (726).jpg\",\n",
    "        \"Turtle_Tortoise (255).jpg\",\n",
    "        \"Turtle_Tortoise (261).jpg\",\n",
    "        \"Turtle_Tortoise (92).jpg\",\n",
    "        \"Turtle_Tortoise (207).jpg\",\n",
    "        \"Turtle_Tortoise (131).jpg\"\n",
    "    ],\n",
    "    \"Sharks\": [\n",
    "        \"97193331_06bb754c30_b.jpg\",\n",
    "        \"97193335_f49f1d8e78_b.jpg\",\n",
    "        \"3134364881_931944b0f5_o.jpg\",\n",
    "        \"5220193178_85b1e37c89_o.jpg\",\n",
    "        \"6155775279_325735ac1e_b.jpg\",\n",
    "        \"6541148357_a3dd92ecdb_o.jpg\",\n",
    "        \"8941813517_09e552e1f7_b.jpg\",\n",
    "        \"14183781510_322d1956fb_b.jpg\",\n",
    "        \"14183887337_d30da575ce_b.jpg\",\n",
    "        \"14347244616_775dba43d4_b.jpg\",\n",
    "        \"14390517883_1d6006d40d_b.jpg\"\n",
    "    ],\n",
    "    \"Whale\": [\n",
    "        \"2736025397_0935b9cf72_o.jpg\",\n",
    "        \"4984077075_f06d05debf_o.jpg\",\n",
    "        \"6068711219_cbf7acc31a_o.jpg\",\n",
    "        \"15394195553_8bae005267_o.jpg\",\n",
    "        \"5652704967_effb830b38_b.jpg\",\n",
    "        \"5653216820_0e8fb426ab_b.jpg\",\n",
    "        \"6879132444_e70fa076af_b.jpg\",\n",
    "        \"8407934317_f030d2d6a7_o.jpg\",\n",
    "        \"14838287098_6c12847c22_o.jpg\",\n",
    "        \"26447963806_642f68e62c_o.jpg\",\n",
    "        \"27320330552_13f4a7a12a_o.jpg\",\n",
    "        \"29809334851_ac68bb2e0c_o.jpg\",\n",
    "        \"33707922003_ca0e254689_b.jpg\",\n",
    "    ]\n",
    "}\n",
    "for folder, files in dump_images.items():\n",
    "    for file in files:\n",
    "        file_path = os.path.join(root_path, folder, file)\n",
    "        if os.path.exists(file_path):\n",
    "            os.remove(file_path)"
   ]
  },
  {
   "cell_type": "markdown",
   "id": "f80e0f3a-c84e-496a-b063-1ddd7ed24f8c",
   "metadata": {},
   "source": [
    "## II. Xây dựng mô hình"
   ]
  },
  {
   "cell_type": "markdown",
   "id": "906835a0-dc9d-485e-a099-6c4733f5d764",
   "metadata": {},
   "source": [
    "### A. Phân chia tập Huấn luyện và Kiểm tra"
   ]
  },
  {
   "cell_type": "markdown",
   "id": "43fe01d6-3f0b-4ad7-8671-e89c84c0a1bf",
   "metadata": {},
   "source": [
    "__Tạo 2 thư mục chhứa ảnh sẽ dùng để huấn luyện và để kiểm tra__"
   ]
  },
  {
   "cell_type": "code",
   "execution_count": null,
   "id": "0968bffb-c39c-4237-9e79-cf2be27315b8",
   "metadata": {},
   "outputs": [],
   "source": [
    "train_path = './train/'\n",
    "test_path = './test/'"
   ]
  },
  {
   "cell_type": "code",
   "execution_count": null,
   "id": "c357b6a6-23cc-4c30-9b68-80a8e85a1028",
   "metadata": {},
   "outputs": [],
   "source": [
    "if os.path.exists(train_path) and os.path.isdir(train_path):\n",
    "    shutil.rmtree(train_path)\n",
    "if os.path.exists(test_path) and os.path.isdir(test_path):\n",
    "    shutil.rmtree(test_path)"
   ]
  },
  {
   "cell_type": "code",
   "execution_count": null,
   "id": "852a1dec-66fb-432a-aac1-3a1c6c2c23c4",
   "metadata": {},
   "outputs": [],
   "source": [
    "os.makedirs('./train',exist_ok = True)\n",
    "os.makedirs('./test',exist_ok = True)\n",
    "for i in labels:\n",
    "  os.makedirs('./train/'+i,exist_ok = True)\n",
    "  os.makedirs('./test/'+i,exist_ok = True)"
   ]
  },
  {
   "cell_type": "markdown",
   "id": "524fa644-c950-409b-afbc-197a302eb12e",
   "metadata": {},
   "source": [
    "__Lấy ra địa chỉ các ảnh trong tập DL gốc, đánh nhãn bằng số tương ứng với thứ tự của thư mục__"
   ]
  },
  {
   "cell_type": "code",
   "execution_count": null,
   "id": "45cd10d8-99f5-4aec-9469-1616e2d00547",
   "metadata": {},
   "outputs": [],
   "source": [
    "x_path = []\n",
    "y = []\n",
    "for i in labels:\n",
    "  label_path = os.listdir(f'./{root_path}/'+i)\n",
    "  jpeg_only = [image_path for image_path in label_path if image_path[-3:] == 'jpg']\n",
    "\n",
    "  x_path.extend(jpeg_only)\n",
    "  y.extend([i]*len(jpeg_only))"
   ]
  },
  {
   "cell_type": "markdown",
   "id": "77a5ab40-b1a1-422b-bd40-19aa1093c5d3",
   "metadata": {},
   "source": [
    "__Từ địa chỉ, nhãn, chia 70% Train 30% Test. Do một nhóm trung bình chỉ có khoảng 500 ảnh (khá là eo hẹp), vì vậy sẽ không chia theo hướng 60/15/15__"
   ]
  },
  {
   "cell_type": "code",
   "execution_count": null,
   "id": "51520e5f-6ef8-486c-be88-78755d02e967",
   "metadata": {},
   "outputs": [],
   "source": [
    "X_train_path, X_test_path, y_train, y_test = train_test_split(x_path, y, test_size=0.2, random_state=42, stratify = y)"
   ]
  },
  {
   "cell_type": "markdown",
   "id": "7600f0ee-d1ff-4d1b-b3ed-9236ebd66f3a",
   "metadata": {},
   "source": [
    "__Lần lượt đưa các địa chỉ ảnh đã chia bên trên vào các thư mục Train hoặc Test tương ứng__"
   ]
  },
  {
   "cell_type": "code",
   "execution_count": null,
   "id": "6fbe5d28-0b6c-4d42-bb7d-29dde4ec833d",
   "metadata": {},
   "outputs": [],
   "source": [
    "for label, path in zip(y_train, X_train_path):\n",
    "    shutil.copy(f'./{root_path}/'+label+'/'+path, train_path+label+'/'+path)\n",
    "\n",
    "for label, path in zip(y_test, X_test_path):\n",
    "  shutil.copy(f'./{root_path}/'+label+'/'+path, test_path+label+'/'+path)"
   ]
  },
  {
   "cell_type": "markdown",
   "id": "cf43dffb-2ceb-4424-b044-9b5c1a5ff601",
   "metadata": {},
   "source": [
    "### B. Tăng cường dữ liệu\n",
    "\n",
    "Thông qua biểu đồ ở trên, nhóm nhận thấy số lượng ảnh khá là ít để huấn luyện. Vì vậy nhóm quyết định tăng cường số lượng ảnh trong tập train mỗi nhóm.\n",
    "\n",
    "__Phương pháp__: Với mỗi bức ảnh trong 1 nhóm, biến đổi nó ngẫu nhiên 10 lần thông qua Compose và lưu thành các ảnh mới. Các ảnh mới được tạo ra sẽ có đặc điểm khác với ảnh gốc như:\n",
    "- Có 50% xác suất bị lật theo chiều ngang\n",
    "- Có 50% xác suất bị lật theo chiều dọc\n",
    "- Dịch sang trái hoặc sang phải ngẫu nhiên 20%, lên trên hoặc xuống dưới 40%\n",
    "- Điều chỉnh độ sáng ngẫu nhiên từ 50% đến 90%\n",
    "- Thu nhỏ xuống 80% hoặc phóng to lên tới 140% 1 phần ngẫu nhiên của bức ảnh\n",
    "- Chuyển đổi ảnh sang dạng Tensor mà Pytorch có thể làm việc\n",
    "\n",
    "__Ưu điểm__: \n",
    "- Tăng cường số lượng dữ liệu để huấn luyện, làm dữ liệu phong phú hơn\n",
    "- Giúp mô hình học được dữ liệu ở nhiều điều kiện ánh sáng, góc độ khác nhau\n",
    "- Tăng khả năng tổng quát của mô hình"
   ]
  },
  {
   "cell_type": "markdown",
   "id": "bfbe4a96-7883-4647-8dd0-7ae9dc687ac0",
   "metadata": {},
   "source": [
    "__Định nghĩa Compose (bộ biến đổi), hàm tăng cường dữ liệu ảnh của 1 nhóm và 1 hàm kiểm soát việc tăng cường của mọi nhóm__"
   ]
  },
  {
   "cell_type": "code",
   "execution_count": null,
   "id": "58f5df82-697f-4121-9fb5-5828f54e27ac",
   "metadata": {},
   "outputs": [],
   "source": [
    "augment_transform = transforms.Compose([\n",
    "    transforms.RandomHorizontalFlip(p=0.5),  \n",
    "    transforms.RandomRotation(degrees=15),  \n",
    "    transforms.ColorJitter(brightness=0.2, contrast=0.2),\n",
    "    transforms.RandomResizedCrop(size=240, scale=(0.8, 1.0)), \n",
    "    transforms.ToTensor()\n",
    "])\n",
    "\n",
    "def augmentation(base_path, target_class, save_path, target_size):\n",
    "    global augment_transform\n",
    "    class_path = os.path.join(base_path, target_class)\n",
    "    image_paths = [os.path.join(class_path, img) for img in os.listdir(class_path)]\n",
    "    current_count = len(image_paths)\n",
    "\n",
    "    if current_count >= target_size:\n",
    "        print(f\"Lớp {target_class} đã có đủ {current_count} ảnh, không cần augment.\")\n",
    "        return\n",
    "        \n",
    "    new_image_count = 0\n",
    "    while current_count + new_image_count < target_size:\n",
    "        for img_path in image_paths:\n",
    "            for i in range(10):\n",
    "                if current_count + new_image_count >= target_size:\n",
    "                    break\n",
    "\n",
    "                img = Image.open(img_path)\n",
    "                augmented_img = augment_transform(img)\n",
    "\n",
    "                original_filename = os.path.basename(img_path)\n",
    "                name, ext = os.path.splitext(original_filename)\n",
    "                augmented_filename = f\"{name}_aug_{new_image_count + 1}{ext}\"\n",
    "                save_file_path = os.path.join(save_path, augmented_filename)\n",
    "                augmented_img_pil = transforms.ToPILImage()(augmented_img)\n",
    "                augmented_img_pil.save(save_file_path)\n",
    "\n",
    "                new_image_count += 1\n",
    "\n",
    "    print(f\"Đã augment {new_image_count} ảnh cho lớp {target_class}.\")\n",
    "\n",
    "def augmentation_all(base_path, target_size, exclude_class=\"\"):\n",
    "    classes = os.listdir(base_path)\n",
    "    for class_name in classes:\n",
    "        if class_name != exclude_class:\n",
    "            class_save_path = os.path.join(base_path, class_name)\n",
    "            augmentation(base_path, class_name, class_save_path, target_size)\n",
    "        else:\n",
    "            print(f\"Bỏ qua lớp {class_name}.\")"
   ]
  },
  {
   "cell_type": "markdown",
   "id": "401bb6c5-4cc7-48e3-b890-262785eb7718",
   "metadata": {},
   "source": [
    "__Số lượng ảnh augment dưới đây là số ảnh mới được tạo sau khi đi qua bộ biến đổi__"
   ]
  },
  {
   "cell_type": "code",
   "execution_count": null,
   "id": "cb64a5fb-df25-4520-8291-2bdc4da174be",
   "metadata": {},
   "outputs": [],
   "source": [
    "augmentation_all(train_path, target_size=2000)"
   ]
  },
  {
   "cell_type": "markdown",
   "id": "dbd4564f-7c86-4010-a032-699f761f070b",
   "metadata": {},
   "source": [
    "__Kiểm tra lại tập dữ liệu TRAIN sau khi được tăng cường__"
   ]
  },
  {
   "cell_type": "code",
   "execution_count": null,
   "id": "fe3db0ce-958b-4c81-8ae0-eb9215ac5d11",
   "metadata": {},
   "outputs": [],
   "source": [
    "labels, counts, table = overview(train_path)\n",
    "table"
   ]
  },
  {
   "cell_type": "markdown",
   "id": "65e79c73-a17a-4889-aa73-75ac5754178f",
   "metadata": {},
   "source": [
    "### C. Định nghĩa bộ quản lý dữ liệu\n",
    "\n",
    "Đây là một phần cần thiết mỗi khi huấn luyện mô hình Pytorch, nó có khả năng __chia dữ liệu thành các nhóm nhỏ hơn__, giúp mô hình học nhanh hơn. Đặc biệt ở đây là nó có chắc năng __lazy evaluation__ (không tải toàn bộ dữ liệu vào bộ nhớ ngay lập tức mà chỉ tải dữ liệu khi cần thiết). Ở đây, chúng ta định nghĩa bộ quản lý dữ liệu tượng trưng cho train và test. Cứ mỗi 16 ảnh trong 1 tập được gộp vào thành 1 batch/nhóm"
   ]
  },
  {
   "cell_type": "code",
   "execution_count": 2,
   "id": "0920c48e-d864-409d-b634-d8f2d455db80",
   "metadata": {},
   "outputs": [],
   "source": [
    "train_path = './train/'\n",
    "test_path = './test/'\n",
    "train_transform = v2.Compose([\n",
    "    v2.ToImage(),\n",
    "    v2.Resize((260, 260)),\n",
    "    v2.ToDtype(torch.float32, scale=True), \n",
    "])\n",
    "\n",
    "train_dataset = datasets.ImageFolder(train_path, transform=train_transform)\n",
    "test_dataset = datasets.ImageFolder(test_path, transform=train_transform)\n",
    "\n",
    "train_loader = DataLoader(\n",
    "    train_dataset, batch_size=32, shuffle=True,\n",
    ")\n",
    "test_loader = DataLoader(\n",
    "    test_dataset, batch_size=32, shuffle=False,\n",
    ")"
   ]
  },
  {
   "cell_type": "markdown",
   "id": "428bf450-45bf-4e69-ada9-df206a95baa7",
   "metadata": {},
   "source": [
    "__Kiểm tra dữ liệu ảnh sau trong 1 tập DataLoader__"
   ]
  },
  {
   "cell_type": "code",
   "execution_count": null,
   "id": "8600d76e-9aa6-4296-b73a-4f123dedeade",
   "metadata": {},
   "outputs": [],
   "source": [
    "def plot_images(loader, num_images=3):\n",
    "    plt.figure(figsize=(12, 12))\n",
    "    images, labels = next(iter(loader))\n",
    "\n",
    "    for i in range(num_images):\n",
    "        ax = plt.subplot(1, num_images, i + 1)\n",
    "        plt.imshow(images[i].permute(1, 2, 0).numpy())\n",
    "        plt.title(f'Label: {labels[i].item()}')\n",
    "        plt.axis('off')\n",
    "    plt.show()\n",
    "\n",
    "plot_images(train_loader)"
   ]
  },
  {
   "cell_type": "code",
   "execution_count": 3,
   "id": "883f65d7-357a-492d-afdc-6efbbd16b158",
   "metadata": {},
   "outputs": [],
   "source": [
    "from IPython.display import Image, display\n",
    "from torchvision import models"
   ]
  },
  {
   "attachments": {},
   "cell_type": "markdown",
   "id": "f41bef6f-d80f-40fc-8470-2799ad7a9b16",
   "metadata": {},
   "source": [
    "### D. Định nghĩa mô hình\n",
    "\n",
    "Sau nhiều lần thử nghiệm, nhóm quyết định chọn EfficientNet_B1 làm mô hình huấn luyện thay vì tự tạo ra mô hình mới.\n",
    "\n",
    "__Lý do__:\n",
    "- Nhóm đã thử nghiệm nhiều mô hình tùy chỉnh nhưng có hiệu suất thấp, tốn nhiều thời gian huấn luyện\n",
    "- Ứng dụng lại những gì người đi trước đã làm tốt thay vì tạo mới giúp tiết kiệm thời gian nghiên cứu\n",
    "- Các mô hình phổ biến có khả năng chuyển giao tốt hơn so với việc làm 1 mô hình mới\n",
    "- Trong bài đánh giá của cuộc thi ImageNet (đang tìm hiểu năm), ta có thể thấy Accuracy của B1 có thể chấp nhận được với số lượng tham số khá khiêm tốn:\n",
    "\n",
    "__Ưu điểm của EfficientNet_B2:__\n",
    "- Phù hợp với lượng dữ liệu trong bài của nhóm\n",
    "- Là một trong những kiến trúc CNN mới nhất\n",
    "- Tiết kiệm tài nguyên, số lượng tham số ít hơn Resnet, DenseNet"
   ]
  },
  {
   "cell_type": "code",
   "execution_count": null,
   "id": "1f897da5-ac52-4ab3-bbf1-06e44286531b",
   "metadata": {},
   "outputs": [],
   "source": [
    "display(Image(url='https://blog.roboflow.com/content/images/2024/04/image-1085.webp', width=500))"
   ]
  },
  {
   "cell_type": "markdown",
   "id": "836b3206-8fcd-439e-8565-53cb16be50ab",
   "metadata": {},
   "source": [
    "__Nạp kiến trúc của EfficientNet_B2 vào mô hình, sử dụng trọng số mà nó đã được huấn luyện từ trước__"
   ]
  },
  {
   "cell_type": "code",
   "execution_count": 4,
   "id": "58d860c6-bdb4-46bc-82eb-6a334df85388",
   "metadata": {},
   "outputs": [],
   "source": [
    "from torchvision import models\n",
    "class MyModel(nn.Module):\n",
    "    def __init__(self, num_classes):\n",
    "        super().__init__()\n",
    "        self.efficientnet = models.efficientnet_b2(weights='EfficientNet_B2_Weights.DEFAULT')\n",
    "        self.efficientnet.classifier[1] = nn.Linear(self.efficientnet.classifier[1].in_features, num_classes)\n",
    "        \n",
    "    def forward(self, x):\n",
    "        x = self.efficientnet(x)\n",
    "        return x"
   ]
  },
  {
   "cell_type": "markdown",
   "id": "facc7998-eff0-407f-9e9b-bb3c643bc3b9",
   "metadata": {},
   "source": [
    "__Tạo đối tượng mô hình và đưa vào bộ xử lý (máy tự nhận biết nên chọn GPU/CPU)__"
   ]
  },
  {
   "cell_type": "code",
   "execution_count": 5,
   "id": "4f786da6-873a-4816-bfbe-6807bda7cd71",
   "metadata": {},
   "outputs": [
    {
     "name": "stdout",
     "output_type": "stream",
     "text": [
      "cuda\n"
     ]
    }
   ],
   "source": [
    "device = torch.device(\"cuda\" if torch.cuda.is_available() else \"cpu\")\n",
    "torch.cuda.empty_cache()\n",
    "model = MyModel(22)\n",
    "model = model.to(device)\n",
    "print(device)"
   ]
  },
  {
   "cell_type": "markdown",
   "id": "4aeaccd5-8c89-46b6-84e6-9751981a22f1",
   "metadata": {},
   "source": [
    "__Diễn giải kiến trúc của EfficientNet__"
   ]
  },
  {
   "cell_type": "code",
   "execution_count": null,
   "id": "b84cb962-dc78-4e31-ae3d-d4f4cf077826",
   "metadata": {
    "scrolled": true
   },
   "outputs": [],
   "source": [
    "model.eval()\n",
    "summary(model, input_size=(3, 260, 260))"
   ]
  },
  {
   "cell_type": "markdown",
   "id": "7ee5c480-d5f8-4609-b90f-cbb203482bb4",
   "metadata": {},
   "source": [
    "### E. Huấn luyện mô hình"
   ]
  },
  {
   "cell_type": "markdown",
   "id": "a2fa6dc7-c739-4760-8097-b93b2a93e5c4",
   "metadata": {},
   "source": [
    "__Cài đặt siêu tham số__: Số vòng lặp huấn luyện, learning rate. \n",
    "\n",
    "__Cài đặt các hàm chi phí__: Adam.\n",
    "\n",
    "__Tiện ích kiểm soát__: ReduceLROnPleteau - nếu phát hiện loss bắt đầu cao hơn 2 lần, giảm learning_rate đi 50%."
   ]
  },
  {
   "cell_type": "code",
   "execution_count": 6,
   "id": "571ea711-9cfc-4bd6-a007-7611ddb1aea8",
   "metadata": {},
   "outputs": [],
   "source": [
    "num_epochs = 50\n",
    "learning_rate = 0.0005\n",
    "loss_fn = nn.CrossEntropyLoss()\n",
    "optimizer = torch.optim.Adam(model.parameters(), lr=learning_rate)"
   ]
  },
  {
   "cell_type": "code",
   "execution_count": 7,
   "id": "4f0ff96d-8352-45d0-99ba-80dd2e3d8781",
   "metadata": {},
   "outputs": [
    {
     "name": "stdout",
     "output_type": "stream",
     "text": [
      "Epoch: 50, Loss: 0.001299281,  Time/epoch: -300.03628270000263\n"
     ]
    },
    {
     "data": {
      "image/png": "[encoded data removed]",
      "text/plain": [
       "<Figure size 640x480 with 1 Axes>"
      ]
     },
     "metadata": {},
     "output_type": "display_data"
    },
    {
     "name": "stdout",
     "output_type": "stream",
     "text": [
      "Total runtime -15011.254428299999\n",
      "Epoch có loss thấp nhất: 36\n",
      "Min loss: 0.00014447352441493422\n"
     ]
    }
   ],
   "source": [
    "import timeit\n",
    "from IPython.display import clear_output\n",
    "device = torch.device(\"cuda\")\n",
    "model.to(device)\n",
    "\n",
    "output_loss = []\n",
    "min_loss = 1\n",
    "t_epoch = 0\n",
    "start = timeit.default_timer()\n",
    "for epoch in range(1,num_epochs+1):\n",
    "  epoch_start = timeit.default_timer()\n",
    "  for batch in train_loader:\n",
    "    x, y = batch[0].to(device), batch[1].to(device)\n",
    "    y_pred = model(x)\n",
    "    loss = loss_fn(y_pred, y)\n",
    "    optimizer.zero_grad()\n",
    "    loss.backward()\n",
    "    optimizer.step()\n",
    "  output_loss.append(loss.item())\n",
    "  epoch_end = timeit.default_timer()\n",
    "  if epoch % 1 == 0:\n",
    "    clear_output(wait=True)\n",
    "    if loss.item()<min_loss:\n",
    "        min_loss = loss.item()\n",
    "        if os.path.exists('./best_model.pth'):\n",
    "            os.remove('./best_model.pth')\n",
    "            print(\"clear\")# Xóa file\n",
    "        torch.save(model.state_dict(), 'best_model.pth')\n",
    "        print(\"saved\")\n",
    "        t_epoch = epoch\n",
    "    print(f'Epoch: {epoch}, Loss: {loss.item():.9f},  Time/epoch: {epoch_start - epoch_end}')\n",
    "    plt.plot(output_loss)\n",
    "    plt.show()\n",
    "end = timeit.default_timer()\n",
    "print(f'Total runtime {start - end}')\n",
    "print(f'Epoch có loss thấp nhất: {t_epoch}')\n",
    "print(f'Min loss: {min_loss}')"
   ]
  },
  {
   "cell_type": "markdown",
   "id": "6c4e7258-99cb-4854-bfc0-ce3bda96a6ba",
   "metadata": {},
   "source": [
    "### F. Đánh giá mô hình"
   ]
  },
  {
   "cell_type": "markdown",
   "id": "f4aef5ca-d93c-422d-b6c7-8e698d722a69",
   "metadata": {},
   "source": [
    "__Tính độ chính xác tổng thể__"
   ]
  },
  {
   "cell_type": "code",
   "execution_count": null,
   "id": "cfdf3c99-9e2b-4660-908c-7bb32030f076",
   "metadata": {},
   "outputs": [],
   "source": [
    "model.eval()\n",
    "correct = 0\n",
    "total = 0\n",
    "with torch.no_grad():\n",
    "    for images, labels in test_loader:\n",
    "        outputs = model(images.to(device))\n",
    "        _, predicted = torch.max(outputs, 1)\n",
    "        total += labels.size(0)\n",
    "        correct += (predicted == labels.to(device)).sum().item()\n",
    "\n",
    "accuracy = correct / total\n",
    "print(f'Test Accuracy: {accuracy * 100:.2f}%')"
   ]
  },
  {
   "cell_type": "markdown",
   "id": "a2ba75fe-896b-4cd2-b749-4ce7aaa8ea4f",
   "metadata": {},
   "source": [
    "__Tính bảng kiểm tra phân loại (vui lòng chụp lại gửi cho tôi cái này)__"
   ]
  },
  {
   "cell_type": "code",
   "execution_count": null,
   "id": "163991c5-d420-46af-a5a3-e4e5a6d0d946",
   "metadata": {},
   "outputs": [],
   "source": [
    "all_labels = []\n",
    "all_predictions = []\n",
    "animals = overview(train_path)[0]\n",
    "\n",
    "with torch.no_grad():\n",
    "    for images, labels in test_loader:\n",
    "        outputs = model(images.to(device))\n",
    "        _, predicted = torch.max(outputs, 1)\n",
    "        all_labels.extend(labels.cpu().numpy()) \n",
    "        all_predictions.extend(predicted.cpu().numpy())\n",
    "\n",
    "report = classification_report(all_labels, all_predictions, target_names=animals)\n",
    "print(report)"
   ]
  },
  {
   "cell_type": "markdown",
   "id": "65b2f968-4097-4348-9fab-2b62be27a9ef",
   "metadata": {},
   "source": [
    "__Lưu mô hình__"
   ]
  },
  {
   "cell_type": "code",
   "execution_count": null,
   "id": "f4335f5e-6248-4027-9463-ca3c89b731b8",
   "metadata": {},
   "outputs": [],
   "source": [
    "model_scripted = torch.jit.script(model)\n",
    "model_scripted.save('model_scripted_not_good.pt')"
   ]
  }
 ],
 "metadata": {
  "kernelspec": {
   "display_name": "Python 3 (ipykernel)",
   "language": "python",
   "name": "python3"
  },
  "language_info": {
   "codemirror_mode": {
    "name": "ipython",
    "version": 3
   },
   "file_extension": ".py",
   "mimetype": "text/x-python",
   "name": "python",
   "nbconvert_exporter": "python",
   "pygments_lexer": "ipython3",
   "version": "3.12.5"
  }
 },
 "nbformat": 4,
 "nbformat_minor": 5
}
